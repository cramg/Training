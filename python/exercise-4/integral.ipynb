{
 "cells": [
  {
   "cell_type": "markdown",
   "id": "2f2f9b81-2472-44e1-8772-23ec4b621faa",
   "metadata": {
    "tags": []
   },
   "source": [
    "# Integral numérica\n",
    "\n",
    "Resolvamos integrales numéricamente.\n",
    "\n",
    "## Tarea 1\n",
    "\n",
    "Dada la siguiente función: \n",
    "\n",
    "\\begin{equation}\n",
    "f(x)= \\frac{1}{\\sqrt{2\\pi}}e^{-x^2}\n",
    "\\end{equation}\n",
    "\n",
    "Calcula numéricamente (no analíticamente) el área de la función entre los límites $x=-0.7$ y $x=0.7$:\n",
    "\n",
    "\\begin{equation}\n",
    "I= \\int_{0.7}^{0.7}\\frac{1}{\\sqrt{2\\pi}} e^{-x^2} dx\n",
    "\\end{equation}"
   ]
  },
  {
   "cell_type": "markdown",
   "id": "fcb7324c-a95d-40d3-81c4-56676db67767",
   "metadata": {},
   "source": [
    "## Tips\n",
    "Al abordaje numérico -computacional- más sencillo para cualquier la integral unidimensional es la de aproximar el área de la función por la suma de infinitos rectángulos.\n",
    "\n",
    "Debemos en primer lugar definir un $\\Delta x$ muy pequeño y calcular cuantas veces cabe $\\Delta x$ en el segmento entre los límites de la integral. O dicho de otra manera... si $\\Delta x$ es la base de un rectángulo, ¿cuántos rectángulos caben entre los límites de la integral?\n",
    "\n",
    "Ahora decidimos resolver la integral \"por la izquierda\" o \"por la derecha\". Es decir, la altura del rectangulo vendrá definida en uno de ellos por el valor de la función en el extremo izquierdo de su base, o por el valor de la función en el extremo derecho de su base. Tu decides...\n",
    "\n",
    "Una vez tenemos todos los rectángulos con su altura, si sumamos el área de todos ellos y el número de rectángulos es suficientemente grande... encontraremos un valor muy aproximado al valor real $I$."
   ]
  },
  {
   "cell_type": "markdown",
   "id": "c75044ad-98fa-4ad3-852a-94759d90f1af",
   "metadata": {},
   "source": [
    "## Es tu turno...\n",
    "\n",
    "- Resuelve aquí la integral numérica propuesta.\n",
    "- ¿Da lo mismo que resolvamos la integral por la izquierda que por la derecha?"
   ]
  },
  {
   "cell_type": "markdown",
   "id": "4c6fac9e-951d-454f-9f4f-2f45565d0924",
   "metadata": {},
   "source": [
    "## Tarea 2\n",
    "\n",
    "Supongamos que en lugar de tener una única dimensión, estamos con un sistema 6 dimensional (seis variables libres). Calcula ahora numéricamente la integral:\n",
    "\n",
    "\\begin{equation}\n",
    "I= \\left(\\frac{1}{\\sqrt{2\\pi}}\\right)^{6}\\int_{0.7}^{0.7}\\int_{0.7}^{0.7}\\int_{0.7}^{0.7}\\int_{0.7}^{0.7}\\int_{0.7}^{0.7}\\int_{0.7}^{0.7} e^{-(u^2+v^2+w^2+x^2+y^2+z^2)} \\mathop{du} \\mathop{dv} \\mathop{dw} \\mathop{dx} \\mathop{dy} \\mathop{dz}\n",
    "\\end{equation}"
   ]
  },
  {
   "cell_type": "markdown",
   "id": "b66dc59f-dc8f-422e-a0ec-9a32cb975e69",
   "metadata": {},
   "source": [
    "## Es tu turno...\n",
    "Realiza la tarea aquí\n"
   ]
  },
  {
   "cell_type": "markdown",
   "id": "c751bd78-5271-4f9f-b6c0-f9c68f35bf4c",
   "metadata": {},
   "source": [
    "## Tarea 3\n",
    "\n",
    "¿Sabrías calcular la integral de la tarea dos numéricamente con un método Monte Carlo?"
   ]
  },
  {
   "cell_type": "markdown",
   "id": "33a8d0ef-8dcd-4a67-bac2-7acfd84ae0aa",
   "metadata": {
    "tags": []
   },
   "source": [
    "## Es tu turno...\n",
    "\n",
    "Realiza la tarea aquí."
   ]
  }
 ],
 "metadata": {
  "kernelspec": {
   "display_name": "Python 3 (ipykernel)",
   "language": "python",
   "name": "python3"
  },
  "language_info": {
   "codemirror_mode": {
    "name": "ipython",
    "version": 3
   },
   "file_extension": ".py",
   "mimetype": "text/x-python",
   "name": "python",
   "nbconvert_exporter": "python",
   "pygments_lexer": "ipython3",
   "version": "3.10.10"
  }
 },
 "nbformat": 4,
 "nbformat_minor": 5
}
