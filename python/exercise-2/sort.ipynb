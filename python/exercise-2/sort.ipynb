{
 "cells": [
  {
   "cell_type": "markdown",
   "id": "a466f38f-415d-4e30-9270-a046a9de0e81",
   "metadata": {
    "tags": []
   },
   "source": [
    "# Sorting algorithm\n",
    "\n",
    "## Task\n",
    "\n",
    "Make a sorting function named 'sort' with a single input argument named 'numbers'. This function returns the input list (list, tuple or numpy.ndarray) of integers sorted. Some constraints will be taken into account:\n",
    "- The input is always a list of $10^7$ random integers in the range $[0, 10^8)$.\n",
    "- The algorithm needs to be fast no matter the memory or resources used.\n",
    "- Do not use the sorting functions found in the native Python libraries or in numpy, scipy, pandas, scikit, etc. The algorithm needs to be written from scrath using basic Python syntax and variables.\n",
    "\n",
    "Once your function is working, try to stimate the time cost of its execution.\n",
    "\n",
    "## Additional indications\n",
    "\n",
    "The input integers series will be generated as follows:"
   ]
  },
  {
   "cell_type": "code",
   "execution_count": 1,
   "id": "488a0645-0233-4d78-8144-c1336ac718d1",
   "metadata": {},
   "outputs": [],
   "source": [
    "import numpy as np\n",
    "import sys\n",
    "import time"
   ]
  },
  {
   "cell_type": "code",
   "execution_count": 2,
   "id": "1a08510a-3779-4716-b898-b82e9a84b0ed",
   "metadata": {
    "tags": []
   },
   "outputs": [],
   "source": [
    "rng = np.random.default_rng(333)\n",
    "input_random_numbers = rng.integers(low=0, high=10**8, size=10**7)"
   ]
  },
  {
   "cell_type": "code",
   "execution_count": 3,
   "id": "3f953248-a483-4711-81eb-67be496bb2fd",
   "metadata": {
    "tags": []
   },
   "outputs": [
    {
     "name": "stdout",
     "output_type": "stream",
     "text": [
      "[30054056 91900182 41637891 ...  5150345 25101977 61734715]\n"
     ]
    }
   ],
   "source": [
    "print(input_random_numbers)"
   ]
  },
  {
   "cell_type": "markdown",
   "id": "187f0013-4ffb-445e-a25d-2b50bb86acd4",
   "metadata": {
    "tags": []
   },
   "source": [
    "### What do you know about random generators?\n",
    "- Did you realize that the cell returns always the same list no matter the number of times it was executed?\n",
    "- Whats the number \"333\" for?\n",
    "- How a random generator works? Are they really random?\n",
    "- What's the seed of a generator? Do you really need it? Is there a way we can make the seed random?\n",
    "\n",
    "### And what if we care about memory?\n",
    "You have to design your algorithm trying to optimize its time cost, no the memory used. But:\n",
    "- What's the size of the object `input_random_numbers`?\n",
    "- How can you free this memory after working with this object?\n",
    "- What's in Python the memory garbage collector?"
   ]
  },
  {
   "cell_type": "markdown",
   "id": "4f442e20-c610-4210-af77-ac8f38154a4b",
   "metadata": {},
   "source": [
    "### Now it is your turn"
   ]
  },
  {
   "cell_type": "markdown",
   "id": "a388fa2e-a330-4617-a590-8979651a28b4",
   "metadata": {},
   "source": [
    "Now it is your turn..."
   ]
  },
  {
   "cell_type": "code",
   "execution_count": 4,
   "id": "d71a6db3-50f2-4017-9324-99eb6c941d02",
   "metadata": {
    "tags": []
   },
   "outputs": [],
   "source": [
    "def sort(array):\n",
    "    \n",
    "    ''' \n",
    "    This is a sorting function\n",
    "    '''\n",
    "    \n",
    "    if len(array) > 1:\n",
    "\n",
    "        #  r is the point where the array is divided into two subarrays\n",
    "        r = len(array)//2\n",
    "        L = array[:r]\n",
    "        M = array[r:]\n",
    "\n",
    "        # Sort the two halves\n",
    "        sort(L)\n",
    "        sort(M)\n",
    "\n",
    "        i = j = k = 0\n",
    "\n",
    "        # Until we reach either end of either L or M, pick larger among\n",
    "        # elements L and M and place them in the correct position at array list\n",
    "        while i < len(L) and j < len(M):\n",
    "            if L[i] < M[j]:\n",
    "                array[k] = L[i]\n",
    "                i += 1\n",
    "            else:\n",
    "                array[k] = M[j]\n",
    "                j += 1\n",
    "            k += 1\n",
    "\n",
    "        # When we run out of elements in either L or M,\n",
    "        # pick up the remaining elements and put in array list\n",
    "        while i < len(L):\n",
    "            array[k] = L[i]\n",
    "            i += 1\n",
    "            k += 1\n",
    "\n",
    "        while j < len(M):\n",
    "            array[k] = M[j]\n",
    "            j += 1\n",
    "            k += 1\n"
   ]
  },
  {
   "cell_type": "markdown",
   "id": "d4cabed1-f966-4ea3-b8d4-e688f3c77994",
   "metadata": {},
   "source": [
    "Do not forget to stimate the time your algorithm takes in sorting the input list."
   ]
  },
  {
   "cell_type": "code",
   "execution_count": 5,
   "id": "88ac516e-7f48-46fe-9037-2b1d07ae1528",
   "metadata": {},
   "outputs": [
    {
     "name": "stdout",
     "output_type": "stream",
     "text": [
      "Total runtime of the function is 79.002206773 seconds\n"
     ]
    }
   ],
   "source": [
    "start = time.process_time()\n",
    "sort(input_random_numbers)  \n",
    "print(f\"Total runtime of the function is {time.process_time() - start} seconds\")"
   ]
  },
  {
   "cell_type": "code",
   "execution_count": 6,
   "id": "d1e2446c-9384-4a28-95ad-fbb583e844ea",
   "metadata": {},
   "outputs": [
    {
     "data": {
      "text/plain": [
       "array([      22,       22,       22, ...,  5150345, 25101977, 61734715])"
      ]
     },
     "execution_count": 6,
     "metadata": {},
     "output_type": "execute_result"
    }
   ],
   "source": [
    "input_random_numbers"
   ]
  },
  {
   "cell_type": "markdown",
   "id": "bc083356-f360-408a-a3d0-90029d917097",
   "metadata": {},
   "source": [
    "To know the size of the object input_random_numbers, use getsizeof() method from sys module, the result is expressed in bytes."
   ]
  },
  {
   "cell_type": "code",
   "execution_count": 7,
   "id": "d28d5afe-bae9-4bdc-a843-0e37f580d3d6",
   "metadata": {},
   "outputs": [
    {
     "data": {
      "text/plain": [
       "80000112"
      ]
     },
     "execution_count": 7,
     "metadata": {},
     "output_type": "execute_result"
    }
   ],
   "source": [
    "sys.getsizeof(input_random_numbers)"
   ]
  }
 ],
 "metadata": {
  "kernelspec": {
   "display_name": "Python 3 (ipykernel)",
   "language": "python",
   "name": "python3"
  },
  "language_info": {
   "codemirror_mode": {
    "name": "ipython",
    "version": 3
   },
   "file_extension": ".py",
   "mimetype": "text/x-python",
   "name": "python",
   "nbconvert_exporter": "python",
   "pygments_lexer": "ipython3",
   "version": "3.9.15"
  }
 },
 "nbformat": 4,
 "nbformat_minor": 5
}
