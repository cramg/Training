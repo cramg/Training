{
 "cells": [
  {
   "cell_type": "markdown",
   "id": "2f2f9b81-2472-44e1-8772-23ec4b621faa",
   "metadata": {
    "tags": []
   },
   "source": [
    "# Calculo del número Pi por un método MonteCarlo\n",
    "\n",
    "\n",
    "Si lanzamos un par de números aleatorios, $x$ y $y$, cuya densidad de probabilidad es uniforme en el segmento de plano XY definido por $[0,1)x[0,1)$. ¿Cúal será la probabilidad de que este punto $(x,y)$ se encuentre a una distancia menor o igual que $1$ del punto $(0,0)$? ¿Qué número irracional encontraremos como inversa de dicha probabilidad?\n",
    "\n",
    "## Tarea\n",
    "\n",
    "Dada una secuencia de $n$ pares de números aleatorios ($x$,$y$) donde $0<=x<1$ y $0<=y<1$, calcula la probabilidad que tuvo cualquiera de sus puntos de encontrarse a una distancia menor o igual que $1$ como el número de puntos $q$ que cumplen esa condición dividido $n$:\n",
    "\n",
    "\\begin{equation}\n",
    "P= \\frac{q}{n}\n",
    "\\end{equation}\n",
    "\n",
    "Representa gráficamente el valor $1/P$ frente al $n$ cuando $n$ toma valores entre 1 y un número suficientemente largo como para observar la convergencia de $1/P$ al número irracional que conocemos como $\\pi$,"
   ]
  },
  {
   "cell_type": "markdown",
   "id": "fcb7324c-a95d-40d3-81c4-56676db67767",
   "metadata": {},
   "source": [
    "## Tips\n",
    "- Haz uso del módulo \"random\" de la librería \"numpy\".\n",
    "- Haz uso de la librería \"matplotlib\" para la representación gráfica de $P^{-1}(n)$."
   ]
  },
  {
   "cell_type": "markdown",
   "id": "64124b2e-6eb6-41ce-ae0d-e2e8c1effd64",
   "metadata": {},
   "source": [
    "## Preguntas\n",
    "\n",
    "- A qué se le llama \"método Monte Carlo\"? Por qué se le llama \"Monte Carlo\"? Cúal es su origen y que tuvo que ver una largo periodo convaleciente de Stanislaw Ulam jugando al solitario? Quien fue John von Neumann, qué hizo y qué relación tenía con Stan Ulam? Qué fue el proyecto Manhattan? Cuantos directores ha tenido Los Alamos National Laboratory y quien fue el primero?"
   ]
  },
  {
   "cell_type": "markdown",
   "id": "e4a6fb25-aa90-44ff-9728-82393cc63938",
   "metadata": {},
   "source": [
    "## Es tu turno...\n",
    "\n",
    "Realiza el ejercicio aquí debajo..."
   ]
  },
  {
   "cell_type": "code",
   "execution_count": null,
   "id": "efa38068-9764-429c-804e-68bbf3db214f",
   "metadata": {},
   "outputs": [],
   "source": []
  }
 ],
 "metadata": {
  "kernelspec": {
   "display_name": "Python 3 (ipykernel)",
   "language": "python",
   "name": "python3"
  },
  "language_info": {
   "codemirror_mode": {
    "name": "ipython",
    "version": 3
   },
   "file_extension": ".py",
   "mimetype": "text/x-python",
   "name": "python",
   "nbconvert_exporter": "python",
   "pygments_lexer": "ipython3",
   "version": "3.10.10"
  }
 },
 "nbformat": 4,
 "nbformat_minor": 5
}
