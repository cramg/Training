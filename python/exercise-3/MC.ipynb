{
 "cells": [
  {
   "cell_type": "markdown",
   "id": "2f2f9b81-2472-44e1-8772-23ec4b621faa",
   "metadata": {
    "tags": []
   },
   "source": [
    "# Calculo del número Pi por un método MonteCarlo\n",
    "\n",
    "\n",
    "Si lanzamos un par de números aleatorios, $x$ y $y$, cuya densidad de probabilidad es uniforme en el segmento de plano XY definido por $[0,1)x[0,1)$. ¿Cúal será la probabilidad de que este punto $(x,y)$ se encuentre a una distancia menor o igual que $1$ del punto $(0,0)$? ¿Qué número irracional encontraremos como el cuadruple de dicha probabilidad?\n",
    "\n",
    "## Tarea\n",
    "\n",
    "Dada una secuencia de $n$ pares de números aleatorios ($x$,$y$) donde $0<=x<1$ y $0<=y<1$, calcula la probabilidad que tuvo cualquiera de sus puntos ($x$,$y$) de encontrarse a una distancia menor o igual que $1$ como el número de puntos $q$ que cumplen esa condición dividido $n$:\n",
    "\n",
    "\\begin{equation}\n",
    "P= \\frac{q}{n}\n",
    "\\end{equation}\n",
    "\n",
    "Representa gráficamente el valor $4P$ frente al $n$ cuando $n$ toma valores entre 1 y un número suficientemente largo como para observar la convergencia de $4P$ al número irracional que conocemos como $\\pi$,"
   ]
  },
  {
   "cell_type": "markdown",
   "id": "fcb7324c-a95d-40d3-81c4-56676db67767",
   "metadata": {},
   "source": [
    "## Tips\n",
    "- Haz uso del módulo \"random\" de la librería \"numpy\".\n",
    "- Haz uso de la librería \"matplotlib\" para la representación gráfica de $4P(n)$."
   ]
  },
  {
   "cell_type": "markdown",
   "id": "64124b2e-6eb6-41ce-ae0d-e2e8c1effd64",
   "metadata": {},
   "source": [
    "## Preguntas\n",
    "\n",
    "- A qué se le llama \"método Monte Carlo\"? Por qué se le llama \"Monte Carlo\"? Cúal es su origen y que tuvo que ver una largo periodo convaleciente de Stanislaw Ulam jugando al solitario? Quien fue John von Neumann, qué hizo y qué relación tenía con Stan Ulam? Qué fue el proyecto Manhattan? Cuantos directores ha tenido Los Alamos National Laboratory y quien fue el primero?"
   ]
  },
  {
   "cell_type": "markdown",
   "id": "e4a6fb25-aa90-44ff-9728-82393cc63938",
   "metadata": {},
   "source": [
    "## Es tu turno...\n",
    "\n",
    "Realiza el ejercicio aquí debajo..."
   ]
  },
  {
   "cell_type": "markdown",
   "id": "7f417248-6390-4ae8-a0d8-49bc02bd36a7",
   "metadata": {},
   "source": [
    "Empezamos por importar las librerias necesarias para el ejercicio"
   ]
  },
  {
   "cell_type": "code",
   "execution_count": 1,
   "id": "efa38068-9764-429c-804e-68bbf3db214f",
   "metadata": {},
   "outputs": [],
   "source": [
    "import numpy as np\n",
    "import matplotlib.pyplot as plt"
   ]
  },
  {
   "cell_type": "markdown",
   "id": "5ad9204c-61cb-42e5-be8a-9fc919ff4b27",
   "metadata": {},
   "source": [
    "Se crea una funcion que regrese el valor de pi como se pide"
   ]
  },
  {
   "cell_type": "code",
   "execution_count": 2,
   "id": "080ccbfd-ab6b-4b30-bc3a-441bea14e482",
   "metadata": {},
   "outputs": [],
   "source": [
    "def num_pi(nn):\n",
    "    \n",
    "    # Modulo que permite crear arrays con valores aleatorios entre [0,1)\n",
    "    puntos = np.random.rand(nn,2)\n",
    "    \n",
    "    conteo = 0\n",
    "    \n",
    "    for tt in range(nn):\n",
    "        if np.linalg.norm(puntos[tt]) <= 1:\n",
    "            conteo+=1\n",
    "            \n",
    "    pp = conteo/nn\n",
    "    \n",
    "    return 4*pp    "
   ]
  },
  {
   "cell_type": "code",
   "execution_count": 3,
   "id": "71bf85de-5e28-4137-9816-7f218ec2dbdc",
   "metadata": {},
   "outputs": [
    {
     "name": "stdout",
     "output_type": "stream",
     "text": [
      "CPU times: user 2.09 s, sys: 1.83 ms, total: 2.09 s\n",
      "Wall time: 2.09 s\n"
     ]
    },
    {
     "data": {
      "text/plain": [
       "3.141988"
      ]
     },
     "execution_count": 3,
     "metadata": {},
     "output_type": "execute_result"
    }
   ],
   "source": [
    "%%time\n",
    "aa = num_pi(1000000)\n",
    "aa"
   ]
  },
  {
   "cell_type": "code",
   "execution_count": 4,
   "id": "c798fd78-f999-4186-8717-f02c06240122",
   "metadata": {},
   "outputs": [
    {
     "name": "stdout",
     "output_type": "stream",
     "text": [
      "CPU times: user 1min 59s, sys: 67.9 ms, total: 1min 59s\n",
      "Wall time: 1min 59s\n"
     ]
    },
    {
     "data": {
      "image/png": "[encoded data removed]",
      "text/plain": [
       "<Figure size 640x480 with 1 Axes>"
      ]
     },
     "metadata": {},
     "output_type": "display_data"
    }
   ],
   "source": [
    "%%time\n",
    "for uu in range(1,10000):\n",
    "    plt.plot(uu, num_pi(uu), 'bo')"
   ]
  }
 ],
 "metadata": {
  "kernelspec": {
   "display_name": "Python 3 (ipykernel)",
   "language": "python",
   "name": "python3"
  },
  "language_info": {
   "codemirror_mode": {
    "name": "ipython",
    "version": 3
   },
   "file_extension": ".py",
   "mimetype": "text/x-python",
   "name": "python",
   "nbconvert_exporter": "python",
   "pygments_lexer": "ipython3",
   "version": "3.9.16"
  }
 },
 "nbformat": 4,
 "nbformat_minor": 5
}
