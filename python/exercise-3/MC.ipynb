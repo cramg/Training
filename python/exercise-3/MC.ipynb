{
 "cells": [
  {
   "cell_type": "markdown",
   "id": "2f2f9b81-2472-44e1-8772-23ec4b621faa",
   "metadata": {
    "tags": []
   },
   "source": [
    "# Calculo del número Pi por un método MonteCarlo\n",
    "\n",
    "\n",
    "Si lanzamos un par de números aleatorios, $x$ y $y$, cuya densidad de probabilidad es uniforme en el segmento de plano XY definido por $[0,1)x[0,1)$. ¿Cúal será la probabilidad de que este punto $(x,y)$ se encuentre a una distancia menor o igual que $1$ del punto $(0,0)$? ¿Qué número irracional encontraremos como inversa de dicha probabilidad?\n",
    "\n",
    "## Tarea\n",
    "\n",
    "Dada una secuencia de $n$ pares de números aleatorios ($x$,$y$) donde $0<=x<1$ y $0<=y<1$, calcula la probabilidad que tuvo cualquiera de sus puntos de encontrarse a una distancia menor o igual que $1$ como el número de puntos $q$ que cumplen esa condición dividido $n$:\n",
    "\n",
    "\\begin{equation}\n",
    "P= \\frac{q}{n}\n",
    "\\end{equation}\n",
    "\n",
    "Representa gráficamente el valor $1/P$ frente al $n$ cuando $n$ toma valores entre 1 y un número suficientemente largo como para observar la convergencia de $1/P$ al número irracional que conocemos como $\\pi$,"
   ]
  },
  {
   "cell_type": "markdown",
   "id": "fcb7324c-a95d-40d3-81c4-56676db67767",
   "metadata": {},
   "source": [
    "## Tips\n",
    "- Haz uso del módulo \"random\" de la librería \"numpy\".\n",
    "- Haz uso de la librería \"matplotlib\" para la representación gráfica de $P^{-1}(n)$."
   ]
  },
  {
   "cell_type": "markdown",
   "id": "64124b2e-6eb6-41ce-ae0d-e2e8c1effd64",
   "metadata": {},
   "source": [
    "## Preguntas\n",
    "\n",
    "- A qué se le llama \"método Monte Carlo\"? Por qué se le llama \"Monte Carlo\"? Cúal es su origen y que tuvo que ver una largo periodo convaleciente de Stanislaw Ulam jugando al solitario? Quien fue John von Neumann, qué hizo y qué relación tenía con Stan Ulam? Qué fue el proyecto Manhattan? Cuantos directores ha tenido Los Alamos National Laboratory y quien fue el primero?"
   ]
  },
  {
   "cell_type": "markdown",
   "id": "e4a6fb25-aa90-44ff-9728-82393cc63938",
   "metadata": {},
   "source": [
    "## Es tu turno...\n",
    "\n",
    "Realiza el ejercicio aquí debajo..."
   ]
  },
  {
   "cell_type": "code",
   "execution_count": 1,
   "id": "efa38068-9764-429c-804e-68bbf3db214f",
   "metadata": {},
   "outputs": [],
   "source": [
    "import numpy as np\n",
    "import matplotlib.pyplot as plt"
   ]
  },
  {
   "cell_type": "code",
   "execution_count": 30,
   "id": "c09fc9dc-1922-4cdb-b738-f3b9e5e2a386",
   "metadata": {},
   "outputs": [],
   "source": [
    "# pares = np.random.rand(100,2)\n",
    "# Creacion de un numpy array\n",
    "# NOTA: buscar si es posible graficar este array de manera que sea similar al de abajo"
   ]
  },
  {
   "cell_type": "code",
   "execution_count": 42,
   "id": "b1bbf9f6-24df-4079-a64e-fd9ce0b6b5aa",
   "metadata": {},
   "outputs": [],
   "source": [
    "rng = np.random.default_rng(777)"
   ]
  },
  {
   "cell_type": "code",
   "execution_count": 118,
   "id": "3ee18c18-7618-43e9-b5aa-03eb3a5d776a",
   "metadata": {},
   "outputs": [],
   "source": [
    "puntos_x = rng.random(size=100)\n",
    "puntos_y = rng.random(size=100)"
   ]
  },
  {
   "cell_type": "code",
   "execution_count": 119,
   "id": "d86c870c-f163-4dad-a896-cbb4cdfb0be7",
   "metadata": {},
   "outputs": [
    {
     "data": {
      "image/png": "[encoded data removed]",
      "text/plain": [
       "<Figure size 640x480 with 1 Axes>"
      ]
     },
     "metadata": {},
     "output_type": "display_data"
    },
    {
     "name": "stdout",
     "output_type": "stream",
     "text": [
      "CPU times: user 193 ms, sys: 88.1 ms, total: 281 ms\n",
      "Wall time: 105 ms\n"
     ]
    }
   ],
   "source": [
    "%%time\n",
    "plt.plot(puntos_x, puntos_y, 'bo', markersize=1.0)\n",
    "plt.show()"
   ]
  },
  {
   "cell_type": "code",
   "execution_count": 132,
   "id": "63e965f0-b823-4e7c-a249-85890335e143",
   "metadata": {},
   "outputs": [],
   "source": [
    "pares = np.random.rand(100000000,2)"
   ]
  },
  {
   "cell_type": "code",
   "execution_count": 109,
   "id": "6fedbc67-74f0-40fd-9cff-b603aef9eeda",
   "metadata": {
    "collapsed": true,
    "jupyter": {
     "outputs_hidden": true
    },
    "tags": []
   },
   "outputs": [
    {
     "ename": "KeyboardInterrupt",
     "evalue": "",
     "output_type": "error",
     "traceback": [
      "\u001b[0;31m---------------------------------------------------------------------------\u001b[0m",
      "\u001b[0;31mKeyboardInterrupt\u001b[0m                         Traceback (most recent call last)",
      "File \u001b[0;32m<timed exec>:4\u001b[0m\n",
      "File \u001b[0;32m~/MyOpt/Miniconda/envs/learn/lib/python3.9/site-packages/matplotlib/pyplot.py:446\u001b[0m, in \u001b[0;36mshow\u001b[0;34m(*args, **kwargs)\u001b[0m\n\u001b[1;32m    402\u001b[0m \u001b[38;5;250m\u001b[39m\u001b[38;5;124;03m\"\"\"\u001b[39;00m\n\u001b[1;32m    403\u001b[0m \u001b[38;5;124;03mDisplay all open figures.\u001b[39;00m\n\u001b[1;32m    404\u001b[0m \n\u001b[0;32m   (...)\u001b[0m\n\u001b[1;32m    443\u001b[0m \u001b[38;5;124;03mexplicitly there.\u001b[39;00m\n\u001b[1;32m    444\u001b[0m \u001b[38;5;124;03m\"\"\"\u001b[39;00m\n\u001b[1;32m    445\u001b[0m _warn_if_gui_out_of_main_thread()\n\u001b[0;32m--> 446\u001b[0m \u001b[38;5;28;01mreturn\u001b[39;00m \u001b[43m_get_backend_mod\u001b[49m\u001b[43m(\u001b[49m\u001b[43m)\u001b[49m\u001b[38;5;241;43m.\u001b[39;49m\u001b[43mshow\u001b[49m\u001b[43m(\u001b[49m\u001b[38;5;241;43m*\u001b[39;49m\u001b[43margs\u001b[49m\u001b[43m,\u001b[49m\u001b[43m \u001b[49m\u001b[38;5;241;43m*\u001b[39;49m\u001b[38;5;241;43m*\u001b[39;49m\u001b[43mkwargs\u001b[49m\u001b[43m)\u001b[49m\n",
      "File \u001b[0;32m~/MyOpt/Miniconda/envs/learn/lib/python3.9/site-packages/matplotlib_inline/backend_inline.py:90\u001b[0m, in \u001b[0;36mshow\u001b[0;34m(close, block)\u001b[0m\n\u001b[1;32m     88\u001b[0m \u001b[38;5;28;01mtry\u001b[39;00m:\n\u001b[1;32m     89\u001b[0m     \u001b[38;5;28;01mfor\u001b[39;00m figure_manager \u001b[38;5;129;01min\u001b[39;00m Gcf\u001b[38;5;241m.\u001b[39mget_all_fig_managers():\n\u001b[0;32m---> 90\u001b[0m         \u001b[43mdisplay\u001b[49m\u001b[43m(\u001b[49m\n\u001b[1;32m     91\u001b[0m \u001b[43m            \u001b[49m\u001b[43mfigure_manager\u001b[49m\u001b[38;5;241;43m.\u001b[39;49m\u001b[43mcanvas\u001b[49m\u001b[38;5;241;43m.\u001b[39;49m\u001b[43mfigure\u001b[49m\u001b[43m,\u001b[49m\n\u001b[1;32m     92\u001b[0m \u001b[43m            \u001b[49m\u001b[43mmetadata\u001b[49m\u001b[38;5;241;43m=\u001b[39;49m\u001b[43m_fetch_figure_metadata\u001b[49m\u001b[43m(\u001b[49m\u001b[43mfigure_manager\u001b[49m\u001b[38;5;241;43m.\u001b[39;49m\u001b[43mcanvas\u001b[49m\u001b[38;5;241;43m.\u001b[39;49m\u001b[43mfigure\u001b[49m\u001b[43m)\u001b[49m\n\u001b[1;32m     93\u001b[0m \u001b[43m        \u001b[49m\u001b[43m)\u001b[49m\n\u001b[1;32m     94\u001b[0m \u001b[38;5;28;01mfinally\u001b[39;00m:\n\u001b[1;32m     95\u001b[0m     show\u001b[38;5;241m.\u001b[39m_to_draw \u001b[38;5;241m=\u001b[39m []\n",
      "File \u001b[0;32m~/MyOpt/Miniconda/envs/learn/lib/python3.9/site-packages/IPython/core/display_functions.py:298\u001b[0m, in \u001b[0;36mdisplay\u001b[0;34m(include, exclude, metadata, transient, display_id, raw, clear, *objs, **kwargs)\u001b[0m\n\u001b[1;32m    296\u001b[0m     publish_display_data(data\u001b[38;5;241m=\u001b[39mobj, metadata\u001b[38;5;241m=\u001b[39mmetadata, \u001b[38;5;241m*\u001b[39m\u001b[38;5;241m*\u001b[39mkwargs)\n\u001b[1;32m    297\u001b[0m \u001b[38;5;28;01melse\u001b[39;00m:\n\u001b[0;32m--> 298\u001b[0m     format_dict, md_dict \u001b[38;5;241m=\u001b[39m \u001b[38;5;28;43mformat\u001b[39;49m\u001b[43m(\u001b[49m\u001b[43mobj\u001b[49m\u001b[43m,\u001b[49m\u001b[43m \u001b[49m\u001b[43minclude\u001b[49m\u001b[38;5;241;43m=\u001b[39;49m\u001b[43minclude\u001b[49m\u001b[43m,\u001b[49m\u001b[43m \u001b[49m\u001b[43mexclude\u001b[49m\u001b[38;5;241;43m=\u001b[39;49m\u001b[43mexclude\u001b[49m\u001b[43m)\u001b[49m\n\u001b[1;32m    299\u001b[0m     \u001b[38;5;28;01mif\u001b[39;00m \u001b[38;5;129;01mnot\u001b[39;00m format_dict:\n\u001b[1;32m    300\u001b[0m         \u001b[38;5;66;03m# nothing to display (e.g. _ipython_display_ took over)\u001b[39;00m\n\u001b[1;32m    301\u001b[0m         \u001b[38;5;28;01mcontinue\u001b[39;00m\n",
      "File \u001b[0;32m~/MyOpt/Miniconda/envs/learn/lib/python3.9/site-packages/IPython/core/formatters.py:179\u001b[0m, in \u001b[0;36mDisplayFormatter.format\u001b[0;34m(self, obj, include, exclude)\u001b[0m\n\u001b[1;32m    177\u001b[0m md \u001b[38;5;241m=\u001b[39m \u001b[38;5;28;01mNone\u001b[39;00m\n\u001b[1;32m    178\u001b[0m \u001b[38;5;28;01mtry\u001b[39;00m:\n\u001b[0;32m--> 179\u001b[0m     data \u001b[38;5;241m=\u001b[39m \u001b[43mformatter\u001b[49m\u001b[43m(\u001b[49m\u001b[43mobj\u001b[49m\u001b[43m)\u001b[49m\n\u001b[1;32m    180\u001b[0m \u001b[38;5;28;01mexcept\u001b[39;00m:\n\u001b[1;32m    181\u001b[0m     \u001b[38;5;66;03m# FIXME: log the exception\u001b[39;00m\n\u001b[1;32m    182\u001b[0m     \u001b[38;5;28;01mraise\u001b[39;00m\n",
      "File \u001b[0;32m~/MyOpt/Miniconda/envs/learn/lib/python3.9/site-packages/decorator.py:232\u001b[0m, in \u001b[0;36mdecorate.<locals>.fun\u001b[0;34m(*args, **kw)\u001b[0m\n\u001b[1;32m    230\u001b[0m \u001b[38;5;28;01mif\u001b[39;00m \u001b[38;5;129;01mnot\u001b[39;00m kwsyntax:\n\u001b[1;32m    231\u001b[0m     args, kw \u001b[38;5;241m=\u001b[39m fix(args, kw, sig)\n\u001b[0;32m--> 232\u001b[0m \u001b[38;5;28;01mreturn\u001b[39;00m \u001b[43mcaller\u001b[49m\u001b[43m(\u001b[49m\u001b[43mfunc\u001b[49m\u001b[43m,\u001b[49m\u001b[43m \u001b[49m\u001b[38;5;241;43m*\u001b[39;49m\u001b[43m(\u001b[49m\u001b[43mextras\u001b[49m\u001b[43m \u001b[49m\u001b[38;5;241;43m+\u001b[39;49m\u001b[43m \u001b[49m\u001b[43margs\u001b[49m\u001b[43m)\u001b[49m\u001b[43m,\u001b[49m\u001b[43m \u001b[49m\u001b[38;5;241;43m*\u001b[39;49m\u001b[38;5;241;43m*\u001b[39;49m\u001b[43mkw\u001b[49m\u001b[43m)\u001b[49m\n",
      "File \u001b[0;32m~/MyOpt/Miniconda/envs/learn/lib/python3.9/site-packages/IPython/core/formatters.py:223\u001b[0m, in \u001b[0;36mcatch_format_error\u001b[0;34m(method, self, *args, **kwargs)\u001b[0m\n\u001b[1;32m    221\u001b[0m \u001b[38;5;250m\u001b[39m\u001b[38;5;124;03m\"\"\"show traceback on failed format call\"\"\"\u001b[39;00m\n\u001b[1;32m    222\u001b[0m \u001b[38;5;28;01mtry\u001b[39;00m:\n\u001b[0;32m--> 223\u001b[0m     r \u001b[38;5;241m=\u001b[39m \u001b[43mmethod\u001b[49m\u001b[43m(\u001b[49m\u001b[38;5;28;43mself\u001b[39;49m\u001b[43m,\u001b[49m\u001b[43m \u001b[49m\u001b[38;5;241;43m*\u001b[39;49m\u001b[43margs\u001b[49m\u001b[43m,\u001b[49m\u001b[43m \u001b[49m\u001b[38;5;241;43m*\u001b[39;49m\u001b[38;5;241;43m*\u001b[39;49m\u001b[43mkwargs\u001b[49m\u001b[43m)\u001b[49m\n\u001b[1;32m    224\u001b[0m \u001b[38;5;28;01mexcept\u001b[39;00m \u001b[38;5;167;01mNotImplementedError\u001b[39;00m:\n\u001b[1;32m    225\u001b[0m     \u001b[38;5;66;03m# don't warn on NotImplementedErrors\u001b[39;00m\n\u001b[1;32m    226\u001b[0m     \u001b[38;5;28;01mreturn\u001b[39;00m \u001b[38;5;28mself\u001b[39m\u001b[38;5;241m.\u001b[39m_check_return(\u001b[38;5;28;01mNone\u001b[39;00m, args[\u001b[38;5;241m0\u001b[39m])\n",
      "File \u001b[0;32m~/MyOpt/Miniconda/envs/learn/lib/python3.9/site-packages/IPython/core/formatters.py:340\u001b[0m, in \u001b[0;36mBaseFormatter.__call__\u001b[0;34m(self, obj)\u001b[0m\n\u001b[1;32m    338\u001b[0m     \u001b[38;5;28;01mpass\u001b[39;00m\n\u001b[1;32m    339\u001b[0m \u001b[38;5;28;01melse\u001b[39;00m:\n\u001b[0;32m--> 340\u001b[0m     \u001b[38;5;28;01mreturn\u001b[39;00m \u001b[43mprinter\u001b[49m\u001b[43m(\u001b[49m\u001b[43mobj\u001b[49m\u001b[43m)\u001b[49m\n\u001b[1;32m    341\u001b[0m \u001b[38;5;66;03m# Finally look for special method names\u001b[39;00m\n\u001b[1;32m    342\u001b[0m method \u001b[38;5;241m=\u001b[39m get_real_method(obj, \u001b[38;5;28mself\u001b[39m\u001b[38;5;241m.\u001b[39mprint_method)\n",
      "File \u001b[0;32m~/MyOpt/Miniconda/envs/learn/lib/python3.9/site-packages/IPython/core/pylabtools.py:152\u001b[0m, in \u001b[0;36mprint_figure\u001b[0;34m(fig, fmt, bbox_inches, base64, **kwargs)\u001b[0m\n\u001b[1;32m    149\u001b[0m     \u001b[38;5;28;01mfrom\u001b[39;00m \u001b[38;5;21;01mmatplotlib\u001b[39;00m\u001b[38;5;21;01m.\u001b[39;00m\u001b[38;5;21;01mbackend_bases\u001b[39;00m \u001b[38;5;28;01mimport\u001b[39;00m FigureCanvasBase\n\u001b[1;32m    150\u001b[0m     FigureCanvasBase(fig)\n\u001b[0;32m--> 152\u001b[0m \u001b[43mfig\u001b[49m\u001b[38;5;241;43m.\u001b[39;49m\u001b[43mcanvas\u001b[49m\u001b[38;5;241;43m.\u001b[39;49m\u001b[43mprint_figure\u001b[49m\u001b[43m(\u001b[49m\u001b[43mbytes_io\u001b[49m\u001b[43m,\u001b[49m\u001b[43m \u001b[49m\u001b[38;5;241;43m*\u001b[39;49m\u001b[38;5;241;43m*\u001b[39;49m\u001b[43mkw\u001b[49m\u001b[43m)\u001b[49m\n\u001b[1;32m    153\u001b[0m data \u001b[38;5;241m=\u001b[39m bytes_io\u001b[38;5;241m.\u001b[39mgetvalue()\n\u001b[1;32m    154\u001b[0m \u001b[38;5;28;01mif\u001b[39;00m fmt \u001b[38;5;241m==\u001b[39m \u001b[38;5;124m'\u001b[39m\u001b[38;5;124msvg\u001b[39m\u001b[38;5;124m'\u001b[39m:\n",
      "File \u001b[0;32m~/MyOpt/Miniconda/envs/learn/lib/python3.9/site-packages/matplotlib/backend_bases.py:2342\u001b[0m, in \u001b[0;36mFigureCanvasBase.print_figure\u001b[0;34m(self, filename, dpi, facecolor, edgecolor, orientation, format, bbox_inches, pad_inches, bbox_extra_artists, backend, **kwargs)\u001b[0m\n\u001b[1;32m   2336\u001b[0m     renderer \u001b[38;5;241m=\u001b[39m _get_renderer(\n\u001b[1;32m   2337\u001b[0m         \u001b[38;5;28mself\u001b[39m\u001b[38;5;241m.\u001b[39mfigure,\n\u001b[1;32m   2338\u001b[0m         functools\u001b[38;5;241m.\u001b[39mpartial(\n\u001b[1;32m   2339\u001b[0m             print_method, orientation\u001b[38;5;241m=\u001b[39morientation)\n\u001b[1;32m   2340\u001b[0m     )\n\u001b[1;32m   2341\u001b[0m     \u001b[38;5;28;01mwith\u001b[39;00m \u001b[38;5;28mgetattr\u001b[39m(renderer, \u001b[38;5;124m\"\u001b[39m\u001b[38;5;124m_draw_disabled\u001b[39m\u001b[38;5;124m\"\u001b[39m, nullcontext)():\n\u001b[0;32m-> 2342\u001b[0m         \u001b[38;5;28;43mself\u001b[39;49m\u001b[38;5;241;43m.\u001b[39;49m\u001b[43mfigure\u001b[49m\u001b[38;5;241;43m.\u001b[39;49m\u001b[43mdraw\u001b[49m\u001b[43m(\u001b[49m\u001b[43mrenderer\u001b[49m\u001b[43m)\u001b[49m\n\u001b[1;32m   2344\u001b[0m \u001b[38;5;28;01mif\u001b[39;00m bbox_inches:\n\u001b[1;32m   2345\u001b[0m     \u001b[38;5;28;01mif\u001b[39;00m bbox_inches \u001b[38;5;241m==\u001b[39m \u001b[38;5;124m\"\u001b[39m\u001b[38;5;124mtight\u001b[39m\u001b[38;5;124m\"\u001b[39m:\n",
      "File \u001b[0;32m~/MyOpt/Miniconda/envs/learn/lib/python3.9/site-packages/matplotlib/artist.py:95\u001b[0m, in \u001b[0;36m_finalize_rasterization.<locals>.draw_wrapper\u001b[0;34m(artist, renderer, *args, **kwargs)\u001b[0m\n\u001b[1;32m     93\u001b[0m \u001b[38;5;129m@wraps\u001b[39m(draw)\n\u001b[1;32m     94\u001b[0m \u001b[38;5;28;01mdef\u001b[39;00m \u001b[38;5;21mdraw_wrapper\u001b[39m(artist, renderer, \u001b[38;5;241m*\u001b[39margs, \u001b[38;5;241m*\u001b[39m\u001b[38;5;241m*\u001b[39mkwargs):\n\u001b[0;32m---> 95\u001b[0m     result \u001b[38;5;241m=\u001b[39m \u001b[43mdraw\u001b[49m\u001b[43m(\u001b[49m\u001b[43martist\u001b[49m\u001b[43m,\u001b[49m\u001b[43m \u001b[49m\u001b[43mrenderer\u001b[49m\u001b[43m,\u001b[49m\u001b[43m \u001b[49m\u001b[38;5;241;43m*\u001b[39;49m\u001b[43margs\u001b[49m\u001b[43m,\u001b[49m\u001b[43m \u001b[49m\u001b[38;5;241;43m*\u001b[39;49m\u001b[38;5;241;43m*\u001b[39;49m\u001b[43mkwargs\u001b[49m\u001b[43m)\u001b[49m\n\u001b[1;32m     96\u001b[0m     \u001b[38;5;28;01mif\u001b[39;00m renderer\u001b[38;5;241m.\u001b[39m_rasterizing:\n\u001b[1;32m     97\u001b[0m         renderer\u001b[38;5;241m.\u001b[39mstop_rasterizing()\n",
      "File \u001b[0;32m~/MyOpt/Miniconda/envs/learn/lib/python3.9/site-packages/matplotlib/artist.py:72\u001b[0m, in \u001b[0;36mallow_rasterization.<locals>.draw_wrapper\u001b[0;34m(artist, renderer)\u001b[0m\n\u001b[1;32m     69\u001b[0m     \u001b[38;5;28;01mif\u001b[39;00m artist\u001b[38;5;241m.\u001b[39mget_agg_filter() \u001b[38;5;129;01mis\u001b[39;00m \u001b[38;5;129;01mnot\u001b[39;00m \u001b[38;5;28;01mNone\u001b[39;00m:\n\u001b[1;32m     70\u001b[0m         renderer\u001b[38;5;241m.\u001b[39mstart_filter()\n\u001b[0;32m---> 72\u001b[0m     \u001b[38;5;28;01mreturn\u001b[39;00m \u001b[43mdraw\u001b[49m\u001b[43m(\u001b[49m\u001b[43martist\u001b[49m\u001b[43m,\u001b[49m\u001b[43m \u001b[49m\u001b[43mrenderer\u001b[49m\u001b[43m)\u001b[49m\n\u001b[1;32m     73\u001b[0m \u001b[38;5;28;01mfinally\u001b[39;00m:\n\u001b[1;32m     74\u001b[0m     \u001b[38;5;28;01mif\u001b[39;00m artist\u001b[38;5;241m.\u001b[39mget_agg_filter() \u001b[38;5;129;01mis\u001b[39;00m \u001b[38;5;129;01mnot\u001b[39;00m \u001b[38;5;28;01mNone\u001b[39;00m:\n",
      "File \u001b[0;32m~/MyOpt/Miniconda/envs/learn/lib/python3.9/site-packages/matplotlib/figure.py:3140\u001b[0m, in \u001b[0;36mFigure.draw\u001b[0;34m(self, renderer)\u001b[0m\n\u001b[1;32m   3137\u001b[0m         \u001b[38;5;66;03m# ValueError can occur when resizing a window.\u001b[39;00m\n\u001b[1;32m   3139\u001b[0m \u001b[38;5;28mself\u001b[39m\u001b[38;5;241m.\u001b[39mpatch\u001b[38;5;241m.\u001b[39mdraw(renderer)\n\u001b[0;32m-> 3140\u001b[0m \u001b[43mmimage\u001b[49m\u001b[38;5;241;43m.\u001b[39;49m\u001b[43m_draw_list_compositing_images\u001b[49m\u001b[43m(\u001b[49m\n\u001b[1;32m   3141\u001b[0m \u001b[43m    \u001b[49m\u001b[43mrenderer\u001b[49m\u001b[43m,\u001b[49m\u001b[43m \u001b[49m\u001b[38;5;28;43mself\u001b[39;49m\u001b[43m,\u001b[49m\u001b[43m \u001b[49m\u001b[43martists\u001b[49m\u001b[43m,\u001b[49m\u001b[43m \u001b[49m\u001b[38;5;28;43mself\u001b[39;49m\u001b[38;5;241;43m.\u001b[39;49m\u001b[43msuppressComposite\u001b[49m\u001b[43m)\u001b[49m\n\u001b[1;32m   3143\u001b[0m \u001b[38;5;28;01mfor\u001b[39;00m sfig \u001b[38;5;129;01min\u001b[39;00m \u001b[38;5;28mself\u001b[39m\u001b[38;5;241m.\u001b[39msubfigs:\n\u001b[1;32m   3144\u001b[0m     sfig\u001b[38;5;241m.\u001b[39mdraw(renderer)\n",
      "File \u001b[0;32m~/MyOpt/Miniconda/envs/learn/lib/python3.9/site-packages/matplotlib/image.py:131\u001b[0m, in \u001b[0;36m_draw_list_compositing_images\u001b[0;34m(renderer, parent, artists, suppress_composite)\u001b[0m\n\u001b[1;32m    129\u001b[0m \u001b[38;5;28;01mif\u001b[39;00m not_composite \u001b[38;5;129;01mor\u001b[39;00m \u001b[38;5;129;01mnot\u001b[39;00m has_images:\n\u001b[1;32m    130\u001b[0m     \u001b[38;5;28;01mfor\u001b[39;00m a \u001b[38;5;129;01min\u001b[39;00m artists:\n\u001b[0;32m--> 131\u001b[0m         \u001b[43ma\u001b[49m\u001b[38;5;241;43m.\u001b[39;49m\u001b[43mdraw\u001b[49m\u001b[43m(\u001b[49m\u001b[43mrenderer\u001b[49m\u001b[43m)\u001b[49m\n\u001b[1;32m    132\u001b[0m \u001b[38;5;28;01melse\u001b[39;00m:\n\u001b[1;32m    133\u001b[0m     \u001b[38;5;66;03m# Composite any adjacent images together\u001b[39;00m\n\u001b[1;32m    134\u001b[0m     image_group \u001b[38;5;241m=\u001b[39m []\n",
      "File \u001b[0;32m~/MyOpt/Miniconda/envs/learn/lib/python3.9/site-packages/matplotlib/artist.py:72\u001b[0m, in \u001b[0;36mallow_rasterization.<locals>.draw_wrapper\u001b[0;34m(artist, renderer)\u001b[0m\n\u001b[1;32m     69\u001b[0m     \u001b[38;5;28;01mif\u001b[39;00m artist\u001b[38;5;241m.\u001b[39mget_agg_filter() \u001b[38;5;129;01mis\u001b[39;00m \u001b[38;5;129;01mnot\u001b[39;00m \u001b[38;5;28;01mNone\u001b[39;00m:\n\u001b[1;32m     70\u001b[0m         renderer\u001b[38;5;241m.\u001b[39mstart_filter()\n\u001b[0;32m---> 72\u001b[0m     \u001b[38;5;28;01mreturn\u001b[39;00m \u001b[43mdraw\u001b[49m\u001b[43m(\u001b[49m\u001b[43martist\u001b[49m\u001b[43m,\u001b[49m\u001b[43m \u001b[49m\u001b[43mrenderer\u001b[49m\u001b[43m)\u001b[49m\n\u001b[1;32m     73\u001b[0m \u001b[38;5;28;01mfinally\u001b[39;00m:\n\u001b[1;32m     74\u001b[0m     \u001b[38;5;28;01mif\u001b[39;00m artist\u001b[38;5;241m.\u001b[39mget_agg_filter() \u001b[38;5;129;01mis\u001b[39;00m \u001b[38;5;129;01mnot\u001b[39;00m \u001b[38;5;28;01mNone\u001b[39;00m:\n",
      "File \u001b[0;32m~/MyOpt/Miniconda/envs/learn/lib/python3.9/site-packages/matplotlib/axes/_base.py:3064\u001b[0m, in \u001b[0;36m_AxesBase.draw\u001b[0;34m(self, renderer)\u001b[0m\n\u001b[1;32m   3061\u001b[0m \u001b[38;5;28;01mif\u001b[39;00m artists_rasterized:\n\u001b[1;32m   3062\u001b[0m     _draw_rasterized(\u001b[38;5;28mself\u001b[39m\u001b[38;5;241m.\u001b[39mfigure, artists_rasterized, renderer)\n\u001b[0;32m-> 3064\u001b[0m \u001b[43mmimage\u001b[49m\u001b[38;5;241;43m.\u001b[39;49m\u001b[43m_draw_list_compositing_images\u001b[49m\u001b[43m(\u001b[49m\n\u001b[1;32m   3065\u001b[0m \u001b[43m    \u001b[49m\u001b[43mrenderer\u001b[49m\u001b[43m,\u001b[49m\u001b[43m \u001b[49m\u001b[38;5;28;43mself\u001b[39;49m\u001b[43m,\u001b[49m\u001b[43m \u001b[49m\u001b[43martists\u001b[49m\u001b[43m,\u001b[49m\u001b[43m \u001b[49m\u001b[38;5;28;43mself\u001b[39;49m\u001b[38;5;241;43m.\u001b[39;49m\u001b[43mfigure\u001b[49m\u001b[38;5;241;43m.\u001b[39;49m\u001b[43msuppressComposite\u001b[49m\u001b[43m)\u001b[49m\n\u001b[1;32m   3067\u001b[0m renderer\u001b[38;5;241m.\u001b[39mclose_group(\u001b[38;5;124m'\u001b[39m\u001b[38;5;124maxes\u001b[39m\u001b[38;5;124m'\u001b[39m)\n\u001b[1;32m   3068\u001b[0m \u001b[38;5;28mself\u001b[39m\u001b[38;5;241m.\u001b[39mstale \u001b[38;5;241m=\u001b[39m \u001b[38;5;28;01mFalse\u001b[39;00m\n",
      "File \u001b[0;32m~/MyOpt/Miniconda/envs/learn/lib/python3.9/site-packages/matplotlib/image.py:131\u001b[0m, in \u001b[0;36m_draw_list_compositing_images\u001b[0;34m(renderer, parent, artists, suppress_composite)\u001b[0m\n\u001b[1;32m    129\u001b[0m \u001b[38;5;28;01mif\u001b[39;00m not_composite \u001b[38;5;129;01mor\u001b[39;00m \u001b[38;5;129;01mnot\u001b[39;00m has_images:\n\u001b[1;32m    130\u001b[0m     \u001b[38;5;28;01mfor\u001b[39;00m a \u001b[38;5;129;01min\u001b[39;00m artists:\n\u001b[0;32m--> 131\u001b[0m         \u001b[43ma\u001b[49m\u001b[38;5;241;43m.\u001b[39;49m\u001b[43mdraw\u001b[49m\u001b[43m(\u001b[49m\u001b[43mrenderer\u001b[49m\u001b[43m)\u001b[49m\n\u001b[1;32m    132\u001b[0m \u001b[38;5;28;01melse\u001b[39;00m:\n\u001b[1;32m    133\u001b[0m     \u001b[38;5;66;03m# Composite any adjacent images together\u001b[39;00m\n\u001b[1;32m    134\u001b[0m     image_group \u001b[38;5;241m=\u001b[39m []\n",
      "File \u001b[0;32m~/MyOpt/Miniconda/envs/learn/lib/python3.9/site-packages/matplotlib/artist.py:72\u001b[0m, in \u001b[0;36mallow_rasterization.<locals>.draw_wrapper\u001b[0;34m(artist, renderer)\u001b[0m\n\u001b[1;32m     69\u001b[0m     \u001b[38;5;28;01mif\u001b[39;00m artist\u001b[38;5;241m.\u001b[39mget_agg_filter() \u001b[38;5;129;01mis\u001b[39;00m \u001b[38;5;129;01mnot\u001b[39;00m \u001b[38;5;28;01mNone\u001b[39;00m:\n\u001b[1;32m     70\u001b[0m         renderer\u001b[38;5;241m.\u001b[39mstart_filter()\n\u001b[0;32m---> 72\u001b[0m     \u001b[38;5;28;01mreturn\u001b[39;00m \u001b[43mdraw\u001b[49m\u001b[43m(\u001b[49m\u001b[43martist\u001b[49m\u001b[43m,\u001b[49m\u001b[43m \u001b[49m\u001b[43mrenderer\u001b[49m\u001b[43m)\u001b[49m\n\u001b[1;32m     73\u001b[0m \u001b[38;5;28;01mfinally\u001b[39;00m:\n\u001b[1;32m     74\u001b[0m     \u001b[38;5;28;01mif\u001b[39;00m artist\u001b[38;5;241m.\u001b[39mget_agg_filter() \u001b[38;5;129;01mis\u001b[39;00m \u001b[38;5;129;01mnot\u001b[39;00m \u001b[38;5;28;01mNone\u001b[39;00m:\n",
      "File \u001b[0;32m~/MyOpt/Miniconda/envs/learn/lib/python3.9/site-packages/matplotlib/lines.py:863\u001b[0m, in \u001b[0;36mLine2D.draw\u001b[0;34m(self, renderer)\u001b[0m\n\u001b[1;32m    860\u001b[0m     gc\u001b[38;5;241m.\u001b[39mset_linewidth(\u001b[38;5;241m0\u001b[39m)\n\u001b[1;32m    861\u001b[0m \u001b[38;5;28;01melse\u001b[39;00m:\n\u001b[1;32m    862\u001b[0m     \u001b[38;5;66;03m# Don't scale for pixels, and don't stroke them\u001b[39;00m\n\u001b[0;32m--> 863\u001b[0m     marker_trans \u001b[38;5;241m=\u001b[39m \u001b[43mmarker_trans\u001b[49m\u001b[38;5;241;43m.\u001b[39;49m\u001b[43mscale\u001b[49m\u001b[43m(\u001b[49m\u001b[43mw\u001b[49m\u001b[43m)\u001b[49m\n\u001b[1;32m    864\u001b[0m renderer\u001b[38;5;241m.\u001b[39mdraw_markers(gc, marker_path, marker_trans,\n\u001b[1;32m    865\u001b[0m                       subsampled, affine\u001b[38;5;241m.\u001b[39mfrozen(),\n\u001b[1;32m    866\u001b[0m                       fc_rgba)\n\u001b[1;32m    868\u001b[0m alt_marker_path \u001b[38;5;241m=\u001b[39m marker\u001b[38;5;241m.\u001b[39mget_alt_path()\n",
      "File \u001b[0;32m~/MyOpt/Miniconda/envs/learn/lib/python3.9/site-packages/matplotlib/transforms.py:2065\u001b[0m, in \u001b[0;36mAffine2D.scale\u001b[0;34m(self, sx, sy)\u001b[0m\n\u001b[1;32m   2063\u001b[0m \u001b[38;5;28mself\u001b[39m\u001b[38;5;241m.\u001b[39m_mtx[\u001b[38;5;241m1\u001b[39m, \u001b[38;5;241m0\u001b[39m] \u001b[38;5;241m*\u001b[39m\u001b[38;5;241m=\u001b[39m sy\n\u001b[1;32m   2064\u001b[0m \u001b[38;5;28mself\u001b[39m\u001b[38;5;241m.\u001b[39m_mtx[\u001b[38;5;241m1\u001b[39m, \u001b[38;5;241m1\u001b[39m] \u001b[38;5;241m*\u001b[39m\u001b[38;5;241m=\u001b[39m sy\n\u001b[0;32m-> 2065\u001b[0m \u001b[38;5;28mself\u001b[39m\u001b[38;5;241m.\u001b[39m_mtx[\u001b[38;5;241m1\u001b[39m, \u001b[38;5;241m2\u001b[39m] \u001b[38;5;241m*\u001b[39m\u001b[38;5;241m=\u001b[39m sy\n\u001b[1;32m   2066\u001b[0m \u001b[38;5;28mself\u001b[39m\u001b[38;5;241m.\u001b[39minvalidate()\n\u001b[1;32m   2067\u001b[0m \u001b[38;5;28;01mreturn\u001b[39;00m \u001b[38;5;28mself\u001b[39m\n",
      "\u001b[0;31mKeyboardInterrupt\u001b[0m: "
     ]
    }
   ],
   "source": [
    "%%time\n",
    "for ii in range(pares.shape[0]):\n",
    "    plt.plot(pares[ii,0], pares[ii,1], 'bo', markersize=1.0)\n",
    "    \n",
    "plt.show()"
   ]
  },
  {
   "cell_type": "code",
   "execution_count": 133,
   "id": "705578c8-ac6f-4bd9-ab64-8814148f16f6",
   "metadata": {},
   "outputs": [],
   "source": [
    "nn = pares.shape[0]\n",
    "qq = 0\n",
    "for ii in range(nn):\n",
    "    if np.linalg.norm(pares[ii])>1:\n",
    "        qq+=1"
   ]
  },
  {
   "cell_type": "code",
   "execution_count": 134,
   "id": "beaafaac-1b2b-44bb-a76f-7a0d74d81a86",
   "metadata": {},
   "outputs": [
    {
     "data": {
      "text/plain": [
       "21468575"
      ]
     },
     "execution_count": 134,
     "metadata": {},
     "output_type": "execute_result"
    }
   ],
   "source": [
    "qq"
   ]
  },
  {
   "cell_type": "code",
   "execution_count": 135,
   "id": "c202a938-1496-41a3-8ea0-ce45ff4bb023",
   "metadata": {},
   "outputs": [
    {
     "data": {
      "text/plain": [
       "100000000"
      ]
     },
     "execution_count": 135,
     "metadata": {},
     "output_type": "execute_result"
    }
   ],
   "source": [
    "nn"
   ]
  },
  {
   "cell_type": "code",
   "execution_count": 136,
   "id": "995bae96-fb36-4726-a9f8-6d6079d79da3",
   "metadata": {},
   "outputs": [],
   "source": [
    "P=qq/nn"
   ]
  },
  {
   "cell_type": "code",
   "execution_count": 137,
   "id": "e4147cc5-5490-412b-871a-d5673951b20f",
   "metadata": {},
   "outputs": [
    {
     "data": {
      "text/plain": [
       "0.21468575"
      ]
     },
     "execution_count": 137,
     "metadata": {},
     "output_type": "execute_result"
    }
   ],
   "source": [
    "P"
   ]
  },
  {
   "cell_type": "code",
   "execution_count": 138,
   "id": "67e987c9-36c3-4eb4-804b-d83ff3c33c37",
   "metadata": {},
   "outputs": [
    {
     "data": {
      "text/plain": [
       "4.657971011117412"
      ]
     },
     "execution_count": 138,
     "metadata": {},
     "output_type": "execute_result"
    }
   ],
   "source": [
    "1/P"
   ]
  },
  {
   "cell_type": "code",
   "execution_count": 148,
   "id": "47002cd9-2ec0-4c49-adb6-f28380439a5c",
   "metadata": {},
   "outputs": [
    {
     "data": {
      "text/plain": [
       "array([[0.83359672, 0.56429733, 0.77543128, 0.03545916, 0.57117295,\n",
       "        0.83646379, 0.83591953, 0.63537979, 0.06662154, 0.83814895,\n",
       "        0.68668502, 0.0825237 , 0.35294884, 0.23397662, 0.07523356,\n",
       "        0.18057604, 0.45399787, 0.75771477, 0.71155242, 0.25469042,\n",
       "        0.3844273 , 0.52718085, 0.5284188 , 0.56685247, 0.96692043,\n",
       "        0.69865431, 0.24582752, 0.72184475, 0.14036904, 0.20189229,\n",
       "        0.46433916, 0.23374338, 0.47184625, 0.86605513, 0.73489323,\n",
       "        0.71880418, 0.35978072, 0.89423771, 0.80495472, 0.3702977 ,\n",
       "        0.87503697, 0.84289194, 0.97592309, 0.96946268, 0.86349693,\n",
       "        0.83169237, 0.2894674 , 0.27458966, 0.51380342, 0.28580571,\n",
       "        0.36763587, 0.47170089, 0.36758642, 0.45042674, 0.48807023,\n",
       "        0.58092354, 0.45296696, 0.03350464, 0.79350405, 0.06117893,\n",
       "        0.38155304, 0.60861284, 0.21312123, 0.68599609, 0.03131607,\n",
       "        0.15812158, 0.7222332 , 0.21791854, 0.40354576, 0.37878913,\n",
       "        0.85206078, 0.65693451, 0.27267457, 0.53818829, 0.60017107,\n",
       "        0.56431069, 0.41291119, 0.88575505, 0.54425906, 0.87347486,\n",
       "        0.08120188, 0.11881473, 0.84972585, 0.86873055, 0.91611879,\n",
       "        0.64740782, 0.72333091, 0.36057466, 0.07276028, 0.05991672,\n",
       "        0.85682114, 0.27317832, 0.74791356, 0.49731618, 0.46523655,\n",
       "        0.06123758, 0.06375057, 0.21025847, 0.84106474, 0.62536667],\n",
       "       [0.49258332, 0.84611004, 0.12865495, 0.29784021, 0.9426363 ,\n",
       "        0.71129542, 0.3894578 , 0.05982059, 0.31728135, 0.09149582,\n",
       "        0.04410567, 0.79439714, 0.47184725, 0.39296433, 0.39555801,\n",
       "        0.66802025, 0.68831074, 0.44310697, 0.68449632, 0.00823992,\n",
       "        0.69328163, 0.50462835, 0.89443559, 0.84094702, 0.80050535,\n",
       "        0.1188079 , 0.24803521, 0.20395124, 0.68419647, 0.13079917,\n",
       "        0.96206268, 0.34141034, 0.45973454, 0.52513054, 0.51601445,\n",
       "        0.00951108, 0.29986851, 0.33063546, 0.23650725, 0.45889458,\n",
       "        0.77561119, 0.36431211, 0.98163978, 0.89962223, 0.15236395,\n",
       "        0.97429769, 0.29360293, 0.00286917, 0.39430021, 0.84295495,\n",
       "        0.67689576, 0.95087917, 0.11994911, 0.8123102 , 0.14251875,\n",
       "        0.46822766, 0.83920073, 0.46249992, 0.67365621, 0.49086694,\n",
       "        0.74928754, 0.97415637, 0.56472482, 0.8924218 , 0.76306952,\n",
       "        0.09515145, 0.63288294, 0.89584598, 0.29089822, 0.40326982,\n",
       "        0.12134921, 0.44046703, 0.41408559, 0.15593561, 0.88663728,\n",
       "        0.76712897, 0.97668522, 0.20824435, 0.88966812, 0.28573375,\n",
       "        0.36292921, 0.33910588, 0.09866467, 0.76118598, 0.95349438,\n",
       "        0.1101663 , 0.71679101, 0.33671285, 0.70954148, 0.79209197,\n",
       "        0.35058216, 0.126138  , 0.37350744, 0.17330935, 0.98100515,\n",
       "        0.36403881, 0.53542626, 0.05265407, 0.39432642, 0.72556366]])"
      ]
     },
     "execution_count": 148,
     "metadata": {},
     "output_type": "execute_result"
    }
   ],
   "source": [
    "puntos = np.stack((puntos_x, puntos_y))\n",
    "puntos"
   ]
  },
  {
   "cell_type": "code",
   "execution_count": 149,
   "id": "ed82a24d-4c66-48c9-b32a-19094970ac8a",
   "metadata": {},
   "outputs": [
    {
     "data": {
      "text/plain": [
       "(2, 100)"
      ]
     },
     "execution_count": 149,
     "metadata": {},
     "output_type": "execute_result"
    }
   ],
   "source": [
    "puntos.shape"
   ]
  },
  {
   "cell_type": "code",
   "execution_count": 150,
   "id": "2b270d6b-c003-4183-911a-61f4c467c53c",
   "metadata": {},
   "outputs": [
    {
     "data": {
      "text/plain": [
       "(100,)"
      ]
     },
     "execution_count": 150,
     "metadata": {},
     "output_type": "execute_result"
    }
   ],
   "source": [
    "puntos_x.shape"
   ]
  },
  {
   "cell_type": "code",
   "execution_count": 151,
   "id": "27dc6dd1-e893-480b-89b8-ca39aed3b923",
   "metadata": {},
   "outputs": [
    {
     "data": {
      "text/plain": [
       "\u001b[0;31mDocstring:\u001b[0m\n",
       "asarray(a, dtype=None, order=None, *, like=None)\n",
       "\n",
       "Convert the input to an array.\n",
       "\n",
       "Parameters\n",
       "----------\n",
       "a : array_like\n",
       "    Input data, in any form that can be converted to an array.  This\n",
       "    includes lists, lists of tuples, tuples, tuples of tuples, tuples\n",
       "    of lists and ndarrays.\n",
       "dtype : data-type, optional\n",
       "    By default, the data-type is inferred from the input data.\n",
       "order : {'C', 'F', 'A', 'K'}, optional\n",
       "    Memory layout.  'A' and 'K' depend on the order of input array a.\n",
       "    'C' row-major (C-style),\n",
       "    'F' column-major (Fortran-style) memory representation.\n",
       "    'A' (any) means 'F' if `a` is Fortran contiguous, 'C' otherwise\n",
       "    'K' (keep) preserve input order\n",
       "    Defaults to 'K'.\n",
       "like : array_like, optional\n",
       "    Reference object to allow the creation of arrays which are not\n",
       "    NumPy arrays. If an array-like passed in as ``like`` supports\n",
       "    the ``__array_function__`` protocol, the result will be defined\n",
       "    by it. In this case, it ensures the creation of an array object\n",
       "    compatible with that passed in via this argument.\n",
       "\n",
       "    .. versionadded:: 1.20.0\n",
       "\n",
       "Returns\n",
       "-------\n",
       "out : ndarray\n",
       "    Array interpretation of `a`.  No copy is performed if the input\n",
       "    is already an ndarray with matching dtype and order.  If `a` is a\n",
       "    subclass of ndarray, a base class ndarray is returned.\n",
       "\n",
       "See Also\n",
       "--------\n",
       "asanyarray : Similar function which passes through subclasses.\n",
       "ascontiguousarray : Convert input to a contiguous array.\n",
       "asfarray : Convert input to a floating point ndarray.\n",
       "asfortranarray : Convert input to an ndarray with column-major\n",
       "                 memory order.\n",
       "asarray_chkfinite : Similar function which checks input for NaNs and Infs.\n",
       "fromiter : Create an array from an iterator.\n",
       "fromfunction : Construct an array by executing a function on grid\n",
       "               positions.\n",
       "\n",
       "Examples\n",
       "--------\n",
       "Convert a list into an array:\n",
       "\n",
       ">>> a = [1, 2]\n",
       ">>> np.asarray(a)\n",
       "array([1, 2])\n",
       "\n",
       "Existing arrays are not copied:\n",
       "\n",
       ">>> a = np.array([1, 2])\n",
       ">>> np.asarray(a) is a\n",
       "True\n",
       "\n",
       "If `dtype` is set, array is copied only if dtype does not match:\n",
       "\n",
       ">>> a = np.array([1, 2], dtype=np.float32)\n",
       ">>> np.asarray(a, dtype=np.float32) is a\n",
       "True\n",
       ">>> np.asarray(a, dtype=np.float64) is a\n",
       "False\n",
       "\n",
       "Contrary to `asanyarray`, ndarray subclasses are not passed through:\n",
       "\n",
       ">>> issubclass(np.recarray, np.ndarray)\n",
       "True\n",
       ">>> a = np.array([(1.0, 2), (3.0, 4)], dtype='f4,i4').view(np.recarray)\n",
       ">>> np.asarray(a) is a\n",
       "False\n",
       ">>> np.asanyarray(a) is a\n",
       "True\n",
       "\u001b[0;31mType:\u001b[0m      builtin_function_or_method"
      ]
     },
     "metadata": {},
     "output_type": "display_data"
    }
   ],
   "source": [
    "np.asarray?"
   ]
  },
  {
   "cell_type": "code",
   "execution_count": null,
   "id": "4fc568d0-bf85-42f0-9212-fac0affa6913",
   "metadata": {},
   "outputs": [],
   "source": []
  }
 ],
 "metadata": {
  "kernelspec": {
   "display_name": "Python 3 (ipykernel)",
   "language": "python",
   "name": "python3"
  },
  "language_info": {
   "codemirror_mode": {
    "name": "ipython",
    "version": 3
   },
   "file_extension": ".py",
   "mimetype": "text/x-python",
   "name": "python",
   "nbconvert_exporter": "python",
   "pygments_lexer": "ipython3",
   "version": "3.9.16"
  }
 },
 "nbformat": 4,
 "nbformat_minor": 5
}
