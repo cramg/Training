{
 "cells": [
  {
   "cell_type": "markdown",
   "id": "2f2f9b81-2472-44e1-8772-23ec4b621faa",
   "metadata": {
    "tags": []
   },
   "source": [
    "# Calculo del número Pi por un método MonteCarlo\n",
    "\n",
    "\n",
    "Si lanzamos un par de números aleatorios, $x$ y $y$, cuya densidad de probabilidad es uniforme en el segmento de plano XY definido por $[0,1)x[0,1)$. ¿Cúal será la probabilidad de que este punto $(x,y)$ se encuentre a una distancia menor o igual que $1$ del punto $(0,0)$? ¿Qué número irracional encontraremos como inversa de dicha probabilidad?\n",
    "\n",
    "## Tarea\n",
    "\n",
    "Dada una secuencia de $n$ pares de números aleatorios ($x$,$y$) donde $0<=x<1$ y $0<=y<1$, calcula la probabilidad que tuvo cualquiera de sus puntos de encontrarse a una distancia menor o igual que $1$ como el número de puntos $q$ que cumplen esa condición dividido $n$:\n",
    "\n",
    "\\begin{equation}\n",
    "P= \\frac{q}{n}\n",
    "\\end{equation}\n",
    "\n",
    "Representa gráficamente el valor $1/P$ frente al $n$ cuando $n$ toma valores entre 1 y un número suficientemente largo como para observar la convergencia de $1/P$ al número irracional que conocemos como $\\pi$,"
   ]
  },
  {
   "cell_type": "markdown",
   "id": "fcb7324c-a95d-40d3-81c4-56676db67767",
   "metadata": {},
   "source": [
    "## Tips\n",
    "- Haz uso del módulo \"random\" de la librería \"numpy\".\n",
    "- Haz uso de la librería \"matplotlib\" para la representación gráfica de $P^{-1}(n)$."
   ]
  },
  {
   "cell_type": "markdown",
   "id": "64124b2e-6eb6-41ce-ae0d-e2e8c1effd64",
   "metadata": {},
   "source": [
    "## Preguntas\n",
    "\n",
    "- A qué se le llama \"método Monte Carlo\"? Por qué se le llama \"Monte Carlo\"? Cúal es su origen y que tuvo que ver una largo periodo convaleciente de Stanislaw Ulam jugando al solitario? Quien fue John von Neumann, qué hizo y qué relación tenía con Stan Ulam? Qué fue el proyecto Manhattan? Cuantos directores ha tenido Los Alamos National Laboratory y quien fue el primero?"
   ]
  },
  {
   "cell_type": "markdown",
   "id": "e4a6fb25-aa90-44ff-9728-82393cc63938",
   "metadata": {},
   "source": [
    "## Es tu turno...\n",
    "\n",
    "Realiza el ejercicio aquí debajo..."
   ]
  },
  {
   "cell_type": "code",
   "execution_count": 1,
   "id": "efa38068-9764-429c-804e-68bbf3db214f",
   "metadata": {},
   "outputs": [],
   "source": [
    "import numpy as np\n",
    "import matplotlib.pyplot as plt"
   ]
  },
  {
   "cell_type": "code",
   "execution_count": 2,
   "id": "b1bbf9f6-24df-4079-a64e-fd9ce0b6b5aa",
   "metadata": {},
   "outputs": [],
   "source": [
    "rng = np.random.default_rng(777)"
   ]
  },
  {
   "cell_type": "code",
   "execution_count": 58,
   "id": "e205b878-3926-452c-af70-4e04bd1c2b98",
   "metadata": {},
   "outputs": [],
   "source": [
    "nn = 100000000"
   ]
  },
  {
   "cell_type": "code",
   "execution_count": 59,
   "id": "3ee18c18-7618-43e9-b5aa-03eb3a5d776a",
   "metadata": {},
   "outputs": [],
   "source": [
    "puntos_x = rng.random(size=nn)\n",
    "puntos_y = rng.random(size=nn)"
   ]
  },
  {
   "cell_type": "code",
   "execution_count": 60,
   "id": "d86c870c-f163-4dad-a896-cbb4cdfb0be7",
   "metadata": {},
   "outputs": [
    {
     "data": {
      "image/png": "[encoded data removed]",
      "text/plain": [
       "<Figure size 640x480 with 1 Axes>"
      ]
     },
     "metadata": {},
     "output_type": "display_data"
    }
   ],
   "source": [
    "plt.plot(puntos_x, puntos_y, 'bo', markersize=1.0)\n",
    "plt.show()"
   ]
  },
  {
   "cell_type": "code",
   "execution_count": 61,
   "id": "47002cd9-2ec0-4c49-adb6-f28380439a5c",
   "metadata": {},
   "outputs": [],
   "source": [
    "puntos = np.stack((puntos_x, puntos_y), axis=1)"
   ]
  },
  {
   "cell_type": "code",
   "execution_count": 62,
   "id": "705578c8-ac6f-4bd9-ab64-8814148f16f6",
   "metadata": {},
   "outputs": [],
   "source": [
    "qq = 0\n",
    "for ii in range(nn):\n",
    "    if np.linalg.norm(puntos[ii])<1:\n",
    "        qq+=1"
   ]
  },
  {
   "cell_type": "code",
   "execution_count": 63,
   "id": "beaafaac-1b2b-44bb-a76f-7a0d74d81a86",
   "metadata": {},
   "outputs": [
    {
     "data": {
      "text/plain": [
       "78533330"
      ]
     },
     "execution_count": 63,
     "metadata": {},
     "output_type": "execute_result"
    }
   ],
   "source": [
    "qq"
   ]
  },
  {
   "cell_type": "code",
   "execution_count": 64,
   "id": "c202a938-1496-41a3-8ea0-ce45ff4bb023",
   "metadata": {},
   "outputs": [
    {
     "data": {
      "text/plain": [
       "100000000"
      ]
     },
     "execution_count": 64,
     "metadata": {},
     "output_type": "execute_result"
    }
   ],
   "source": [
    "nn"
   ]
  },
  {
   "cell_type": "code",
   "execution_count": 65,
   "id": "995bae96-fb36-4726-a9f8-6d6079d79da3",
   "metadata": {},
   "outputs": [],
   "source": [
    "P=qq/nn"
   ]
  },
  {
   "cell_type": "code",
   "execution_count": 66,
   "id": "e4147cc5-5490-412b-871a-d5673951b20f",
   "metadata": {},
   "outputs": [
    {
     "data": {
      "text/plain": [
       "0.7853333"
      ]
     },
     "execution_count": 66,
     "metadata": {},
     "output_type": "execute_result"
    }
   ],
   "source": [
    "P"
   ]
  },
  {
   "cell_type": "code",
   "execution_count": 67,
   "id": "67e987c9-36c3-4eb4-804b-d83ff3c33c37",
   "metadata": {},
   "outputs": [
    {
     "data": {
      "text/plain": [
       "1.2733447059993508"
      ]
     },
     "execution_count": 67,
     "metadata": {},
     "output_type": "execute_result"
    }
   ],
   "source": [
    "1/P"
   ]
  },
  {
   "cell_type": "code",
   "execution_count": null,
   "id": "bf0edde6-f7d5-429c-9a13-fb3613a32177",
   "metadata": {},
   "outputs": [],
   "source": []
  }
 ],
 "metadata": {
  "kernelspec": {
   "display_name": "Python 3 (ipykernel)",
   "language": "python",
   "name": "python3"
  },
  "language_info": {
   "codemirror_mode": {
    "name": "ipython",
    "version": 3
   },
   "file_extension": ".py",
   "mimetype": "text/x-python",
   "name": "python",
   "nbconvert_exporter": "python",
   "pygments_lexer": "ipython3",
   "version": "3.9.16"
  }
 },
 "nbformat": 4,
 "nbformat_minor": 5
}
